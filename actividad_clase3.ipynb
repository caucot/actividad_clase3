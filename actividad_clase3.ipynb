{
 "cells": [
  {
   "cell_type": "markdown",
   "metadata": {},
   "source": [
    "Evaluativo de la Clase 3"
   ]
  },
  {
   "cell_type": "markdown",
   "metadata": {},
   "source": [
    "Datos Simples"
   ]
  },
  {
   "cell_type": "code",
   "execution_count": null,
   "metadata": {},
   "outputs": [],
   "source": [
    "ciudades = [\"Rio Grande\",\"Tolhuin\",\"La PLata\",\"Salta\"]\n",
    "empleados = { \"trabajador1\" : {\"nombre\":\"Carlos\",\n",
    "             \"cargo\":\"programador\",\n",
    "             \"salario\":\"350.500\"},\n",
    "             \"trabajador2\" : {\"nombre\":\"Carolina\",\n",
    "             \"cargo\":\"analista de datos\",\n",
    "             \"salario\":\"340.500\"},\n",
    "             \"trabajador3\" : {\"nombre\":\"Maria\",\n",
    "             \"cargo\":\"programadora\",\n",
    "             \"salario\":\"350.500\"}\n",
    "}"
   ]
  },
  {
   "cell_type": "code",
   "execution_count": null,
   "metadata": {},
   "outputs": [],
   "source": [
    "print(empleados[\"trabajador2\"])"
   ]
  },
  {
   "cell_type": "code",
   "execution_count": null,
   "metadata": {},
   "outputs": [],
   "source": [
    "print(ciudades[2])"
   ]
  }
 ],
 "metadata": {
  "kernelspec": {
   "display_name": "Python 3",
   "language": "python",
   "name": "python3"
  },
  "language_info": {
   "name": "python",
   "version": "3.12.0"
  }
 },
 "nbformat": 4,
 "nbformat_minor": 2
}
