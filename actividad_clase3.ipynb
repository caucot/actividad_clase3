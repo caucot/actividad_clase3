{
 "cells": [
  {
   "cell_type": "markdown",
   "metadata": {},
   "source": [
    "# Evaluativo de la Clase 3"
   ]
  },
  {
   "cell_type": "markdown",
   "metadata": {},
   "source": [
    "### Datos Simples"
   ]
  },
  {
   "cell_type": "code",
   "execution_count": 1,
   "metadata": {},
   "outputs": [],
   "source": [
    "ciudades = [\"Rio Grande\",\"Tolhuin\",\"La PLata\",\"Salta\"]\n",
    "empleados = { \"trabajador1\" : {\"nombre\":\"Carlos\",\n",
    "             \"cargo\":\"programador\",\n",
    "             \"salario\":\"350.500\"},\n",
    "             \"trabajador2\" : {\"nombre\":\"Carolina\",\n",
    "             \"cargo\":\"analista de datos\",\n",
    "             \"salario\":\"340.500\"},\n",
    "             \"trabajador3\" : {\"nombre\":\"Maria\",\n",
    "             \"cargo\":\"programadora\",\n",
    "             \"salario\":\"350.500\"}\n",
    "}"
   ]
  },
  {
   "cell_type": "code",
   "execution_count": 2,
   "metadata": {},
   "outputs": [
    {
     "name": "stdout",
     "output_type": "stream",
     "text": [
      "{'nombre': 'Carolina', 'cargo': 'analista de datos', 'salario': '340.500'}\n"
     ]
    }
   ],
   "source": [
    "print(empleados[\"trabajador2\"])"
   ]
  },
  {
   "cell_type": "code",
   "execution_count": null,
   "metadata": {},
   "outputs": [],
   "source": [
    "print(ciudades[2])"
   ]
  },
  {
   "cell_type": "markdown",
   "metadata": {},
   "source": [
    "### Manipulacion de Listas y Metodos"
   ]
  },
  {
   "cell_type": "code",
   "execution_count": null,
   "metadata": {},
   "outputs": [],
   "source": [
    "numeros = [1,2,3,4,5,6,7,8,9]\n",
    "numeros.append(10)\n",
    "print(numeros)"
   ]
  },
  {
   "cell_type": "code",
   "execution_count": null,
   "metadata": {},
   "outputs": [],
   "source": [
    "numeros2 = [20,30,40]\n",
    "numeros.extend(numeros2)\n",
    "print(numeros)"
   ]
  },
  {
   "cell_type": "code",
   "execution_count": null,
   "metadata": {},
   "outputs": [],
   "source": [
    "numeros.insert(4,50)\n",
    "print(numeros)\n",
    "numeros.sort()\n",
    "print(numeros)"
   ]
  },
  {
   "cell_type": "markdown",
   "metadata": {},
   "source": [
    "### Manipulacion de Diccionarios y Metodos"
   ]
  },
  {
   "cell_type": "code",
   "execution_count": 6,
   "metadata": {},
   "outputs": [
    {
     "name": "stdout",
     "output_type": "stream",
     "text": [
      "dict_keys(['1', '2', '3'])\n",
      "dict_values([{'nombre': 'galletas de agua', 'precio': 2500, 'cantidad en stock': 30}, {'nombre': 'sonrisas', 'precio': 1500, 'cantidad en stock': 40}, {'nombre': 'cereal', 'precio': 4500, 'cantidad en stock': 20}])\n",
      "dict_items([('1', {'nombre': 'galletas de agua', 'precio': 2500, 'cantidad en stock': 30}), ('2', {'nombre': 'sonrisas', 'precio': 1500, 'cantidad en stock': 40}), ('3', {'nombre': 'cereal', 'precio': 4500, 'cantidad en stock': 20})])\n",
      "2500\n"
     ]
    }
   ],
   "source": [
    "productos = {\"1\": {\"nombre\":\"galletas de agua\",\n",
    "             \"precio\":2500,\n",
    "             \"cantidad en stock\":30},\n",
    "             \"2\": {\"nombre\":\"sonrisas\",\n",
    "             \"precio\":1500,\n",
    "             \"cantidad en stock\":40},\n",
    "             \"3\": {\"nombre\":\"cereal\",\n",
    "             \"precio\":4500,\n",
    "             \"cantidad en stock\":20},\n",
    "}\n",
    "print(productos.keys())\n",
    "print(productos.values())\n",
    "print(productos.items())\n",
    "print(productos.get(\"1\").get(\"precio\"))"
   ]
  },
  {
   "cell_type": "markdown",
   "metadata": {},
   "source": [
    "### Datos Complejos"
   ]
  },
  {
   "cell_type": "code",
   "execution_count": null,
   "metadata": {},
   "outputs": [],
   "source": [
    "lista = [{\"titulo\":\"El principito\",\"autor\":\"Antoine de Saint-Exupéry\",\"año de publicacion\":\"1943\"},\n",
    "        {\"titulo\":\"Las venas abiertas de America Latina\",\"autor\":\"Eduardo Galeano\",\"año de publicacion\":\"1971\"},\n",
    "        {\"titulo\":\"Cronicas de Marte\",\"autor\":\"Ray Bradbury\",\"año de publicacion\":\"1950\"}\n",
    "]\n",
    "\n",
    "diccionario = { \"Carolina\":[\"Programacion\",\"Ingles I\",\"Logica\"],\n",
    "               \"Delfina\":[\"Ingles I\",\"Ciencia de datos\",\"Programacion II\"],\n",
    "               \"Mia\":[\"Matematica\",\"Ingles II\", \"Probabilidad y Estadistica\"]   \n",
    "}\n",
    "\n",
    "lista[1][\"año de publicacion\"] = 1940\n",
    "diccionario[\"Carolina\"][1] = \"Logica\"\n",
    "print(lista)\n",
    "print(diccionario)"
   ]
  }
 ],
 "metadata": {
  "kernelspec": {
   "display_name": "Python 3",
   "language": "python",
   "name": "python3"
  },
  "language_info": {
   "codemirror_mode": {
    "name": "ipython",
    "version": 3
   },
   "file_extension": ".py",
   "mimetype": "text/x-python",
   "name": "python",
   "nbconvert_exporter": "python",
   "pygments_lexer": "ipython3",
   "version": "3.12.0"
  }
 },
 "nbformat": 4,
 "nbformat_minor": 2
}
